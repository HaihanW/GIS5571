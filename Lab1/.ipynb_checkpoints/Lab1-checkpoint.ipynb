{
 "cells": [
  {
   "cell_type": "code",
   "execution_count": 1,
   "metadata": {},
   "outputs": [],
   "source": [
    "import requests"
   ]
  },
  {
   "cell_type": "code",
   "execution_count": 2,
   "metadata": {},
   "outputs": [
    {
     "name": "stdout",
     "output_type": "stream",
     "text": [
      "200\n"
     ]
    }
   ],
   "source": [
    "response = requests.get(\"https://developers.google.com/places/web-service/get-api-key\")\n",
    "print(response.status_code)"
   ]
  },
  {
   "cell_type": "code",
   "execution_count": 3,
   "metadata": {},
   "outputs": [
    {
     "name": "stdout",
     "output_type": "stream",
     "text": [
      "200\n"
     ]
    }
   ],
   "source": [
    "nd = requests.get(\"https://ndawn.ndsu.nodak.edu/\")\n",
    "print(nd.status_code)"
   ]
  },
  {
   "cell_type": "code",
   "execution_count": 19,
   "metadata": {},
   "outputs": [
    {
     "name": "stdout",
     "output_type": "stream",
     "text": [
      "200\n"
     ]
    }
   ],
   "source": [
    "mgc = requests.get(\"https://resources.gisdata.mn.gov/pub/gdrs/data/pub/us_mn_state_dot/bdry_jurisdiction/metadata/metadata.html\")\n",
    "print(mgc.status_code)"
   ]
  },
  {
   "cell_type": "code",
   "execution_count": 30,
   "metadata": {},
   "outputs": [],
   "source": [
    "gpcurl = \"https://maps.googleapis.com/maps/api/\"\n",
    "mgurl = \"https://gisdata.mn.gov/\"\n",
    "ndurl = \"https://ndawn.ndsu.nodak.edu/get-table.html?\""
   ]
  },
  {
   "cell_type": "code",
   "execution_count": 23,
   "metadata": {},
   "outputs": [
    {
     "name": "stdout",
     "output_type": "stream",
     "text": [
      "200\n"
     ]
    }
   ],
   "source": [
    "mgcapi = \"pub/gdrs/data/pub/us_mn_state_dot/bdry_jurisdiction/metadata/metadata.html\"\n",
    "mgcdata = requests.get(mgcurl + mgcapi)\n",
    "print(mgcdata.status_code)"
   ]
  },
  {
   "cell_type": "code",
   "execution_count": 24,
   "metadata": {},
   "outputs": [
    {
     "name": "stdout",
     "output_type": "stream",
     "text": [
      "200\n"
     ]
    }
   ],
   "source": [
    "ndapi = \"station=11&variable=mdapet&year=2021&ttype=monthly&quick_pick=&begin_date=2020-02&count=12\"\n",
    "nddata = requests.get(ndurl + ndapi)\n",
    "print(nddata.status_code)"
   ]
  },
  {
   "cell_type": "code",
   "execution_count": 31,
   "metadata": {},
   "outputs": [
    {
     "ename": "SSLError",
     "evalue": "HTTPSConnectionPool(host='gisdata.mn.gov', port=443): Max retries exceeded with url: /timezone/json?location=39.6034810,-119.6822510&timestamp=1331161200&key=YOUR_API_KEY (Caused by SSLError(SSLError(\"bad handshake: Error([('SSL routines', 'tls_process_server_certificate', 'certificate verify failed')],)\",),))",
     "output_type": "error",
     "traceback": [
      "\u001b[0;31m---------------------------------------------------------------------------\u001b[0m\n\u001b[0;31mSSLError\u001b[0m                                  Traceback (most recent call last)",
      "In  \u001b[0;34m[31]\u001b[0m:\nLine \u001b[0;34m2\u001b[0m:     gpdata = requests.get(gpurl + gpapi)\n",
      "File \u001b[0;34mD:\\Arcgis pro\\bin\\Python\\envs\\arcgispro-py3\\Lib\\site-packages\\requests\\api.py\u001b[0m, in \u001b[0;32mget\u001b[0m:\nLine \u001b[0;34m76\u001b[0m:    \u001b[34mreturn\u001b[39;49;00m request(\u001b[33m'\u001b[39;49;00m\u001b[33mget\u001b[39;49;00m\u001b[33m'\u001b[39;49;00m, url, params=params, **kwargs)\n",
      "File \u001b[0;34mD:\\Arcgis pro\\bin\\Python\\envs\\arcgispro-py3\\Lib\\site-packages\\requests\\api.py\u001b[0m, in \u001b[0;32mrequest\u001b[0m:\nLine \u001b[0;34m61\u001b[0m:    \u001b[34mreturn\u001b[39;49;00m session.request(method=method, url=url, **kwargs)\n",
      "File \u001b[0;34mD:\\Arcgis pro\\bin\\Python\\envs\\arcgispro-py3\\Lib\\site-packages\\requests\\sessions.py\u001b[0m, in \u001b[0;32mrequest\u001b[0m:\nLine \u001b[0;34m530\u001b[0m:   resp = \u001b[36mself\u001b[39;49;00m.send(prep, **send_kwargs)\n",
      "File \u001b[0;34mD:\\Arcgis pro\\bin\\Python\\envs\\arcgispro-py3\\Lib\\site-packages\\requests\\sessions.py\u001b[0m, in \u001b[0;32msend\u001b[0m:\nLine \u001b[0;34m643\u001b[0m:   r = adapter.send(request, **kwargs)\n",
      "File \u001b[0;34mD:\\Arcgis pro\\bin\\Python\\envs\\arcgispro-py3\\Lib\\site-packages\\requests\\adapters.py\u001b[0m, in \u001b[0;32msend\u001b[0m:\nLine \u001b[0;34m514\u001b[0m:   \u001b[34mraise\u001b[39;49;00m SSLError(e, request=request)\n",
      "\u001b[0;31mSSLError\u001b[0m: HTTPSConnectionPool(host='gisdata.mn.gov', port=443): Max retries exceeded with url: /timezone/json?location=39.6034810,-119.6822510&timestamp=1331161200&key=YOUR_API_KEY (Caused by SSLError(SSLError(\"bad handshake: Error([('SSL routines', 'tls_process_server_certificate', 'certificate verify failed')],)\",),))\n\u001b[0;31m---------------------------------------------------------------------------\u001b[0m"
     ]
    }
   ],
   "source": [
    "gpapi = \"timezone/json?location=39.6034810,-119.6822510&timestamp=1331161200&key=YOUR_API_KEY\"\n",
    "gpdata = requests.get(gpurl + gpapi)\n",
    "print(gpdata.status_code)"
   ]
  },
  {
   "cell_type": "code",
   "execution_count": null,
   "metadata": {},
   "outputs": [],
   "source": []
  }
 ],
 "metadata": {
  "kernelspec": {
   "display_name": "ArcGISPro",
   "language": "Python",
   "name": "python3"
  },
  "language_info": {
   "file_extension": ".py",
   "name": "python",
   "version": "3"
  }
 },
 "nbformat": 4,
 "nbformat_minor": 2
}
