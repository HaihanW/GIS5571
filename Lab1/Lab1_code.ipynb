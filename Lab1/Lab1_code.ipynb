{
 "cells": [
  {
   "cell_type": "code",
   "execution_count": null,
   "metadata": {},
   "outputs": [],
   "source": [
    "import requests\n",
    "response = requests.get(\"https://developers.google.com/places/web-service/get-api-key\")\n",
    "print(response.status_code)\n",
    "nd = requests.get(\"https://ndawn.ndsu.nodak.edu/\")\n",
    "print(nd.status_code)\n",
    "mgc = requests.get(\"https://resources.gisdata.mn.gov/pub/gdrs/data/pub/us_mn_state_dot/bdry_jurisdiction/metadata/metadata.html\")\n",
    "print(mgc.status_code)\n",
    "gpcurl = \"https://maps.googleapis.com/maps/api/\"\n",
    "mgurl = \"https://gisdata.mn.gov/\"\n",
    "ndurl = \"https://ndawn.ndsu.nodak.edu/get-table.html?\"\n",
    "mgcapi = \"pub/gdrs/data/pub/us_mn_state_dot/bdry_jurisdiction/metadata/metadata.html\"\n",
    "mgcdata = requests.get(mgcurl + mgcapi)\n",
    "print(mgcdata.status_code)\n",
    "ndapi = \"station=11&variable=mdapet&year=2021&ttype=monthly&quick_pick=&begin_date=2020-02&count=12\"\n",
    "nddata = requests.get(ndurl + ndapi)\n",
    "print(nddata.status_code)\n",
    "gpapi = \"timezone/json?location=39.6034810,-119.6822510&timestamp=1331161200&key=YOUR_API_KEY\"\n",
    "gpdata = requests.get(gpurl + gpapi)\n",
    "print(gpdata.status_code)"
   ]
  }
 ],
 "metadata": {
  "kernelspec": {
   "display_name": "Python 3",
   "language": "python",
   "name": "python3"
  },
  "language_info": {
   "codemirror_mode": {
    "name": "ipython",
    "version": 3
   },
   "file_extension": ".py",
   "mimetype": "text/x-python",
   "name": "python",
   "nbconvert_exporter": "python",
   "pygments_lexer": "ipython3",
   "version": "3.8.6"
  }
 },
 "nbformat": 4,
 "nbformat_minor": 4
}
