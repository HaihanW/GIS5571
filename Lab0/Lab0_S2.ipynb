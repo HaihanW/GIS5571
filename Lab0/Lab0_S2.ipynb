{
 "cells": [
  {
   "cell_type": "code",
   "execution_count": 1,
   "metadata": {},
   "outputs": [],
   "source": [
    "import arcpy"
   ]
  },
  {
   "cell_type": "code",
   "execution_count": 4,
   "metadata": {},
   "outputs": [
    {
     "data": {
      "text/html": [
       "<h2>Output</h2>D:\\5572labs\\Lab0\\MyProject1\\MyProject1.gdb\\TransitShelters_Buffer1<h2>Messages</h2>Start Time: Thursday, February 4, 2021 11:35:48 AM<br/>Succeeded at Thursday, February 4, 2021 11:35:49 AM (Elapsed Time: 0.88 seconds)<br/><style>.rendered_html td, .rendered_html th {text-align: left;}.rendered_html tbody {border: 1px solid black;}</style>"
      ],
      "text/plain": [
       "<Result 'D:\\\\5572labs\\\\Lab0\\\\MyProject1\\\\MyProject1.gdb\\\\TransitShelters_Buffer1'>"
      ]
     },
     "execution_count": 4,
     "metadata": {},
     "output_type": "execute_result"
    }
   ],
   "source": [
    "arcpy.analysis.Buffer(\"TransitShelters\", r\"D:\\5572labs\\Lab0\\MyProject1\\MyProject1.gdb\\TransitShelters_Buffer1\", \"100 Meters\", \"FULL\", \"ROUND\", \"NONE\", None, \"PLANAR\")"
   ]
  },
  {
   "cell_type": "code",
   "execution_count": 3,
   "metadata": {},
   "outputs": [
    {
     "data": {
      "text/html": [
       "<h2>Output</h2>D:\\5572labs\\Lab0\\MyProject1\\MyProject1.gdb\\AgriculturalPreserves2019_Gr<h2>Messages</h2>Start Time: Thursday, February 4, 2021 11:33:01 AM<br/>Succeeded at Thursday, February 4, 2021 11:33:18 AM (Elapsed Time: 16.88 seconds)<br/><style>.rendered_html td, .rendered_html th {text-align: left;}.rendered_html tbody {border: 1px solid black;}</style>"
      ],
      "text/plain": [
       "<Result 'D:\\\\5572labs\\\\Lab0\\\\MyProject1\\\\MyProject1.gdb\\\\AgriculturalPreserves2019_Gr'>"
      ]
     },
     "execution_count": 3,
     "metadata": {},
     "output_type": "execute_result"
    }
   ],
   "source": [
    "arcpy.analysis.GraphicBuffer(\"AgriculturalPreserves2019\", r\"D:\\5572labs\\Lab0\\MyProject1\\MyProject1.gdb\\AgriculturalPreserves2019_Gr\", \"100 Meters\", \"SQUARE\", \"MITER\", 10, \"0 Meters\")"
   ]
  },
  {
   "cell_type": "code",
   "execution_count": 5,
   "metadata": {},
   "outputs": [
    {
     "data": {
      "text/html": [
       "<h2>Output</h2>D:\\5572labs\\Lab0\\MyProject1\\MyProject1.gdb\\dnr_wildlife_management_area<h2>Messages</h2>Start Time: Thursday, February 4, 2021 11:35:56 AM<br/>Succeeded at Thursday, February 4, 2021 11:37:22 AM (Elapsed Time: 1 minutes 26 seconds)<br/><style>.rendered_html td, .rendered_html th {text-align: left;}.rendered_html tbody {border: 1px solid black;}</style>"
      ],
      "text/plain": [
       "<Result 'D:\\\\5572labs\\\\Lab0\\\\MyProject1\\\\MyProject1.gdb\\\\dnr_wildlife_management_area'>"
      ]
     },
     "execution_count": 5,
     "metadata": {},
     "output_type": "execute_result"
    }
   ],
   "source": [
    "arcpy.analysis.GraphicBuffer(\"dnr_wildlife_management_area_boundaries_publicly_accessible\", r\"D:\\5572labs\\Lab0\\MyProject1\\MyProject1.gdb\\dnr_wildlife_management_area\", \"500 Meters\", \"SQUARE\", \"MITER\", 10, \"0 Meters\")"
   ]
  }
 ],
 "metadata": {
  "kernelspec": {
   "display_name": "ArcGISPro",
   "language": "Python",
   "name": "python3"
  },
  "language_info": {
   "file_extension": ".py",
   "name": "python",
   "version": "3"
  }
 },
 "nbformat": 4,
 "nbformat_minor": 2
}
