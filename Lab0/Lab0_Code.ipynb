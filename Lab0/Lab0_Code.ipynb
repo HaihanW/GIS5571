{
 "cells": [
  {
   "cell_type": "code",
   "execution_count": null,
   "metadata": {},
   "outputs": [],
   "source": [
    "import arcpy\n",
    "\n",
    "arcpy.analysis.Buffer(\"TransitShelters\", r\"D:\\5572labs\\Lab0\\MyProject1\\MyProject1.gdb\\TransitShelters_Buffer1\", \"100 Meters\", \"FULL\", \"ROUND\", \"NONE\", None, \"PLANAR\")\n",
    "arcpy.analysis.GraphicBuffer(\"AgriculturalPreserves2019\", r\"D:\\5572labs\\Lab0\\MyProject1\\MyProject1.gdb\\AgriculturalPreserves2019_Gr\", \"100 Meters\", \"SQUARE\", \"MITER\", 10, \"0 Meters\")\n",
    "arcpy.analysis.GraphicBuffer(\"dnr_wildlife_management_area_boundaries_publicly_accessible\", r\"D:\\5572labs\\Lab0\\MyProject1\\MyProject1.gdb\\dnr_wildlife_management_area\", \"500 Meters\", \"SQUARE\", \"MITER\", 10, \"0 Meters\")\n"
   ]
  }
 ],
 "metadata": {
  "kernelspec": {
   "display_name": "Python 3",
   "language": "python",
   "name": "python3"
  },
  "language_info": {
   "codemirror_mode": {
    "name": "ipython",
    "version": 3
   },
   "file_extension": ".py",
   "mimetype": "text/x-python",
   "name": "python",
   "nbconvert_exporter": "python",
   "pygments_lexer": "ipython3",
   "version": "3.8.6"
  }
 },
 "nbformat": 4,
 "nbformat_minor": 4
}
